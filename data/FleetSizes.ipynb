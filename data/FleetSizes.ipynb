{
 "cells": [
  {
   "cell_type": "code",
   "execution_count": 2,
   "metadata": {},
   "outputs": [
    {
     "name": "stdout",
     "output_type": "stream",
     "text": [
      "**nºtrips/day**\n",
      "Monday:  11403\n",
      "Tuesday:  9153\n",
      "Wednesday:  9473\n",
      "Thursday:  5724\n",
      "Friday:  6744\n",
      "Saturday:  9942\n",
      "Sunday:  10029\n",
      "Average:  8924\n",
      "**Fleet sizes**\n",
      "Dockless fleet:  8340\n",
      "Station-based fleet:  3406\n",
      "Autonomous fleet: 791\n"
     ]
    }
   ],
   "source": [
    "import pandas as pd\n",
    "\n",
    "\n",
    "df_trips = pd.read_csv('../data/201910-bluebikes-tripdata.csv')\n",
    "\n",
    "#Select second week of October 2019\n",
    "\n",
    "start_date= '2019-10-08 00:00:00'\n",
    "#start_date_datetime=datetime.strptime(start_date, '%Y-%m-%d %H:%M:%S')\n",
    "end_date='2019-10-15 00:00:00'\n",
    "df_trips=df_trips[(df_trips['starttime'] > start_date) & (df_trips['starttime'] <= end_date)]\n",
    "\n",
    "monday='2019-10-08 00:00:00'\n",
    "tuesday='2019-10-09 00:00:00'\n",
    "wednesday='2019-10-10 00:00:00'\n",
    "thursday='2019-10-11 00:00:00'\n",
    "friday='2019-10-12 00:00:00'\n",
    "saturday='2019-10-13 00:00:00'\n",
    "sunday='2019-10-14 00:00:00'\n",
    "monday_='2019-10-15 00:00:00'\n",
    "\n",
    "df_trips_monday = df_trips[df_trips['starttime'].between(monday,tuesday)]\n",
    "df_trips_tuesday = df_trips[df_trips['starttime'].between(tuesday,wednesday)]\n",
    "df_trips_wednesday = df_trips[df_trips['starttime'].between(wednesday,thursday)]\n",
    "df_trips_thursday = df_trips[df_trips['starttime'].between(thursday,friday)]\n",
    "df_trips_friday = df_trips[df_trips['starttime'].between(friday,saturday)]\n",
    "df_trips_saturday = df_trips[df_trips['starttime'].between(saturday,sunday)]\n",
    "df_trips_sunday = df_trips[df_trips['starttime'].between(sunday, monday_)]\n",
    "    \n",
    "n_monday= len(df_trips_monday.index)\n",
    "n_tuesday= len(df_trips_tuesday.index)\n",
    "n_wednesday= len(df_trips_wednesday.index)\n",
    "n_thursday= len(df_trips_thursday.index)\n",
    "n_friday= len(df_trips_friday.index)\n",
    "n_saturday= len(df_trips_saturday.index)\n",
    "n_sunday= len(df_trips_sunday.index)\n",
    "\n",
    "average= round((n_monday+n_tuesday+n_wednesday+n_thursday+n_friday+n_saturday+n_sunday)/7)\n",
    "\n",
    "print(\"**nºtrips/day**\")\n",
    "print(\"Monday: \",n_monday)\n",
    "print(\"Tuesday: \",n_tuesday)\n",
    "print(\"Wednesday: \",n_wednesday)\n",
    "print(\"Thursday: \",n_thursday)\n",
    "print(\"Friday: \",n_friday)\n",
    "print(\"Saturday: \",n_saturday)\n",
    "print(\"Sunday: \",n_sunday)\n",
    "print(\"Average: \", average)\n",
    "\n",
    "n_dockless=round(average/1.07)\n",
    "n_stationbased=round(average/2.62)\n",
    "n_autonomous=round(average/11.28)\n",
    "\n",
    "print(\"**Fleet sizes**\")\n",
    "print(\"Dockless fleet: \",n_dockless)\n",
    "print(\"Station-based fleet: \",n_stationbased)\n",
    "print(\"Autonomous fleet:\",n_autonomous)"
   ]
  },
  {
   "cell_type": "code",
   "execution_count": null,
   "metadata": {},
   "outputs": [],
   "source": []
  },
  {
   "cell_type": "code",
   "execution_count": null,
   "metadata": {},
   "outputs": [],
   "source": []
  }
 ],
 "metadata": {
  "kernelspec": {
   "display_name": "Python 3",
   "language": "python",
   "name": "python3"
  },
  "language_info": {
   "codemirror_mode": {
    "name": "ipython",
    "version": 3
   },
   "file_extension": ".py",
   "mimetype": "text/x-python",
   "name": "python",
   "nbconvert_exporter": "python",
   "pygments_lexer": "ipython3",
   "version": "3.8.5"
  }
 },
 "nbformat": 4,
 "nbformat_minor": 2
}
